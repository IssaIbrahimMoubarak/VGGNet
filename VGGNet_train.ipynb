{
 "cells": [
  {
   "cell_type": "markdown",
   "metadata": {
    "id": "eispJBJUKmjG"
   },
   "source": [
    "## Hello everybody 😃 😃 welcome back\n"
   ]
  },
  {
   "cell_type": "code",
   "execution_count": null,
   "metadata": {
    "id": "ysLDm91jNg-c"
   },
   "outputs": [],
   "source": [
    "import os\n",
    "import cv2 \n",
    "import numpy as np\n",
    "from PIL import Image\n",
    "import matplotlib.pyplot as plt\n",
    "\n",
    "# Image Size\n",
    "IMG_ROWS, IMG_COLS = 224, 224 # input image dimensions\n",
    "NB_CLASSES =  10 # number of outputs = number of digits"
   ]
  },
  {
   "cell_type": "markdown",
   "metadata": {
    "id": "pIdma5T4WSnW"
   },
   "source": [
    "## (01)   ACQUISITION DES DONNEES - IMAGES DES FEUILLES DES PLANTES. "
   ]
  },
  {
   "cell_type": "code",
   "execution_count": null,
   "metadata": {
    "id": "SvgdwdQCZFLa"
   },
   "outputs": [],
   "source": [
    "########################################### function for plotting images\n",
    "\n",
    "def plot_images(images, total_images=100, rows=20, cols=5, fsize=(20,100), titre='Image'):\n",
    "    \n",
    "    fig = plt.figure(figsize=fsize) # create a new figure window\n",
    "    \n",
    "    for i in range(total_images): # display images\n",
    "        # subplot : 33 rows and 5 columns\n",
    "        img_grid = fig.add_subplot(rows, cols, i+1)\n",
    "        # plot features as image\n",
    "        img_grid.imshow(images[i])\n",
    "        \n",
    "        plt.title(titre)\n"
   ]
  },
  {
   "cell_type": "code",
   "execution_count": null,
   "metadata": {
    "id": "bAJ4GmbT72p0"
   },
   "outputs": [],
   "source": [
    "############################################ function for resizng images\n",
    "       \n",
    "def preprocess_image(image, image_height=IMG_ROWS, image_width=IMG_COLS):\n",
    "\n",
    "    return cv2.resize(image, (image_height, image_width))\n",
    "\n",
    "############################################ function for reading images \n",
    "       \n",
    "def read_images (path , sz= None ):\n",
    "    \n",
    "    print('\\nCHARGEMENT DES IMAGES DE LA BASE .......................!\\n') \n",
    "\n",
    "    X,y = [], []\n",
    "    \n",
    "    for dirname , dirnames , filenames in os.walk(path):\n",
    "        \n",
    "        c = 0\n",
    "        \n",
    "        for subdirname in dirnames :\n",
    "            \n",
    "            subject_path = os. path . join ( dirname , subdirname )\n",
    "            \n",
    "            for filename in os. listdir ( subject_path ):\n",
    "                \n",
    "                im = Image.open(os.path.join(subject_path, filename))\n",
    "                #im = im.convert (\"L\")\n",
    "\n",
    "                if (sz is not None ):\n",
    "                    im = im.resize (sz , Image.ANTIALIAS ) \n",
    "                    \n",
    "                im = np.array(im)\n",
    "                im = preprocess_image(im, IMG_ROWS, IMG_COLS)\n",
    "                X.append(im)\n",
    "                y.append (c)  \n",
    "                \n",
    "            c = c+1\n",
    "            \n",
    "    return [X,y]\n"
   ]
  },
  {
   "cell_type": "code",
   "execution_count": null,
   "metadata": {},
   "outputs": [],
   "source": [
    "############################################ Read And Resize test images\n",
    "\n",
    "print('\\n\\nLECTURE DES IMAGES DE LA BASE D\\'APPRENTISSAGE........!') \n",
    "\n",
    "[X_train, y_train] = read_images(\"./Data/Potato/TrainData\") # Potato\n",
    "\n",
    "print('\\nAFFICHAGE DE QUELQUES IMAGES DE LA BASE.................!')\n",
    "plot_images(X_train, 2, 1, 2,(10, 50), titre='Base D\\'Apprentissage')\n",
    "plt.show()\n",
    "print('\\nFIN D\\'AFFICHAGE DES IMAGES DE LA BASE...................!\\n')"
   ]
  },
  {
   "cell_type": "code",
   "execution_count": null,
   "metadata": {},
   "outputs": [],
   "source": [
    "############################################################# Train Data\n",
    "\n",
    "images_train = X_train\n",
    "images_train = np.asarray(images_train)\n",
    "\n",
    "# Train targets\n",
    "train_features = images_train\n",
    "train_targets = y_train \n",
    "\n",
    "from keras.utils import to_categorical\n",
    "# convert class vectors to binary class matrices\n",
    "train_targets = to_categorical(train_targets, NB_CLASSES)\n",
    "\n",
    "print('\\nNORMALISATION DES BASES DE TEST ET D\\'APPRENTISSAGE.\\n')\n",
    "\n",
    "########################################################## Normalisation\n",
    "\n",
    "train_features = train_features.astype('float32')\n",
    "\n",
    "mean_vals = np.mean(train_features, axis=0)\n",
    "std_val = np.std(train_features)\n",
    "train_features = (train_features - mean_vals)/std_val\n",
    "\n",
    "train_features = train_features.reshape(train_features.shape[0], IMG_ROWS, IMG_COLS, 3)\n",
    "print(\"train_features.shape     >==============<> : {}\".format(train_features.shape))\n",
    "print(\"train_targets.shape      >==============<> : {}\".format(train_targets.shape))"
   ]
  },
  {
   "cell_type": "code",
   "execution_count": null,
   "metadata": {},
   "outputs": [],
   "source": [
    "########################################################################\n",
    "#(02)        CLASSIFICATION : CREATION DU MODELE DE PREDICTION         #\n",
    "########################################################################"
   ]
  },
  {
   "cell_type": "code",
   "execution_count": null,
   "metadata": {},
   "outputs": [],
   "source": [
    "from keras import optimizers\n",
    "from time import time\n",
    "from keras.models import Sequential\n",
    "from keras.layers import Conv2D\n",
    "from keras.layers import MaxPooling2D\n",
    "from keras.layers import Activation\n",
    "from keras.layers import Flatten\n",
    "from keras.layers import Dense\n",
    "from keras.layers import Dropout\n",
    "from keras.layers import BatchNormalization\n",
    "from tensorflow.keras.initializers import he_normal"
   ]
  },
  {
   "cell_type": "code",
   "execution_count": null,
   "metadata": {},
   "outputs": [],
   "source": [
    "######################################################## Build The Model\n",
    "class VGGNet:\n",
    "    @staticmethod\n",
    "    def build(input_shape, classes):\n",
    "        model = Sequential()\n",
    "        \n",
    "        # Block N°1\n",
    "        model.add(Conv2D(64, (3, 3), padding=\"same\", activation=\"relu\", kernel_initializer=he_normal(), input_shape=input_shape))\n",
    "        model.add(BatchNormalization())\n",
    "        model.add(Conv2D(64, (3, 3), padding=\"same\", activation=\"relu\", kernel_initializer=he_normal()))\n",
    "        model.add(BatchNormalization())\n",
    "        model.add(MaxPooling2D(pool_size=(2, 2), strides=(2, 2)))\n",
    "\n",
    "        # Block N°2\n",
    "        model.add(Conv2D(128, (3, 3), padding=\"same\", activation=\"relu\", kernel_initializer=he_normal()))\n",
    "        model.add(BatchNormalization())\n",
    "        model.add(Conv2D(128, (3, 3), padding=\"same\", activation=\"relu\", kernel_initializer=he_normal()))\n",
    "        model.add(BatchNormalization())\n",
    "        model.add(MaxPooling2D(pool_size=(2, 2), strides=(2, 2)))\n",
    "        \n",
    "        # Block N°3\n",
    "        model.add(Conv2D(256, (3, 3), padding=\"same\", activation=\"relu\", kernel_initializer=he_normal()))\n",
    "        model.add(BatchNormalization())\n",
    "        model.add(Conv2D(256, (3, 3), padding=\"same\", activation=\"relu\", kernel_initializer=he_normal()))\n",
    "        model.add(BatchNormalization())\n",
    "        model.add(Conv2D(256, (3, 3), padding=\"same\", activation=\"relu\", kernel_initializer=he_normal()))\n",
    "        model.add(BatchNormalization())\n",
    "        model.add(MaxPooling2D(pool_size=(2, 2), strides=(2, 2)))\n",
    "        \n",
    "        # Block N°4\n",
    "        model.add(Conv2D(512, (3, 3), padding=\"same\", activation=\"relu\", kernel_initializer=he_normal()))\n",
    "        model.add(BatchNormalization())\n",
    "        model.add(Conv2D(512, (3, 3), padding=\"same\", activation=\"relu\", kernel_initializer=he_normal()))\n",
    "        model.add(BatchNormalization())\n",
    "        model.add(Conv2D(512, (3, 3), padding=\"same\", activation=\"relu\", kernel_initializer=he_normal()))\n",
    "        model.add(BatchNormalization())\n",
    "        model.add(MaxPooling2D(pool_size=(2, 2), strides=(2, 2)))\n",
    "        \n",
    "        # Block N°5\n",
    "        model.add(Conv2D(512, (3, 3), padding=\"same\", activation=\"relu\", kernel_initializer=he_normal()))\n",
    "        model.add(BatchNormalization())\n",
    "        model.add(Conv2D(512, (3, 3), padding=\"same\", activation=\"relu\", kernel_initializer=he_normal()))\n",
    "        model.add(BatchNormalization())\n",
    "        model.add(Conv2D(512, (3, 3), padding=\"same\", activation=\"relu\", kernel_initializer=he_normal()))\n",
    "        model.add(BatchNormalization())\n",
    "        model.add(MaxPooling2D(pool_size=(2, 2), strides=(2, 2)))\n",
    "        \n",
    "        # Fully connected layers\n",
    "        model.add(Flatten())\n",
    "        model.add(Dense(4096, activation=\"relu\", kernel_initializer=he_normal()))\n",
    "        model.add(Dropout(0.5))\n",
    "        model.add(Dense(4096, activation=\"relu\", kernel_initializer=he_normal()))\n",
    "        model.add(Dropout(0.5))\n",
    "        model.add(Dense(classes, activation=\"softmax\"))\n",
    "        \n",
    "        return model\n",
    "\n"
   ]
  },
  {
   "cell_type": "code",
   "execution_count": null,
   "metadata": {},
   "outputs": [],
   "source": [
    "########################################################## Use The Model\n",
    "\n",
    "OPTIMIZER=optimizers.Adam()\n",
    "INPUT_SHAPE = (IMG_ROWS, IMG_COLS, 3)\n",
    "NB_EPOCH = 1\n",
    "BATCH_SIZE = 64\n",
    "VERBOSE = 1\n",
    "\n",
    "# initialize the optimizer and model\n",
    "model = VGGNet.build(input_shape=INPUT_SHAPE, classes=NB_CLASSES)\n",
    "model.compile(optimizer=OPTIMIZER, loss='categorical_crossentropy', metrics=['accuracy'])\n",
    "model.summary()\n",
    "\n",
    "t_start = time()\n",
    "history = model.fit(train_features, train_targets, batch_size=BATCH_SIZE, epochs=NB_EPOCH, verbose=VERBOSE)\n",
    "time_full_train = time() - t_start\n",
    "\n",
    "print(\"\\nTEMPS D\\'APPRENTISSAGE DU CLASSIFIEUR >====<> : %0.2fs \" % (time_full_train))\n",
    "model.save(\"VGGNet_16_groupe_2.h5\")\n",
    "print('\\nENREGISTRER LE MODELE .\\n') "
   ]
  },
  {
   "cell_type": "markdown",
   "metadata": {},
   "source": [
    "# Measure of VGGNet16 for one dataset patato\n",
    "1.  86.02%\n",
    "2.  86.26%\n",
    "3.  85.95%\n",
    "4.  86.88%\n",
    "5.  84.88%\n",
    "6.  84.42%\n",
    "7.  83.26%\n",
    "8.  84.42%\n",
    "9.  84.79%\n",
    "10. 83.49%\n",
    "Result of VGGNet16 for ten test = 85.25%"
   ]
  }
 ],
 "metadata": {
  "colab": {
   "provenance": []
  },
  "kernelspec": {
   "display_name": "Python 3",
   "language": "python",
   "name": "python3"
  },
  "language_info": {
   "codemirror_mode": {
    "name": "ipython",
    "version": 3
   },
   "file_extension": ".py",
   "mimetype": "text/x-python",
   "name": "python",
   "nbconvert_exporter": "python",
   "pygments_lexer": "ipython3",
   "version": "3.12.3"
  }
 },
 "nbformat": 4,
 "nbformat_minor": 1
}
