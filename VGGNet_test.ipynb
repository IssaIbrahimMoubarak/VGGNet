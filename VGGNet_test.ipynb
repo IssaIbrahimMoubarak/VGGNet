{
 "cells": [
  {
   "cell_type": "markdown",
   "metadata": {
    "id": "eispJBJUKmjG"
   },
   "source": [
    "## Hello everybody 😃 😃 welcome back"
   ]
  },
  {
   "cell_type": "code",
   "execution_count": null,
   "metadata": {
    "id": "ysLDm91jNg-c"
   },
   "outputs": [],
   "source": [
    "import os\n",
    "import cv2 \n",
    "import numpy as np\n",
    "from PIL import Image\n",
    "import matplotlib.pyplot as plt\n",
    "\n",
    "# Image Size\n",
    "IMG_ROWS, IMG_COLS = 100, 100 # input image dimensions\n",
    "NB_CLASSES =  3 # number of outputs = number of digits"
   ]
  },
  {
   "cell_type": "code",
   "execution_count": null,
   "metadata": {
    "id": "SvgdwdQCZFLa"
   },
   "outputs": [],
   "source": [
    "#########################################################################\n",
    "# (01)   ACQUISITION DES DONNEES - IMAGES DES FEUILLES DES PLANTES.     #\n",
    "#########################################################################"
   ]
  },
  {
   "cell_type": "code",
   "execution_count": null,
   "metadata": {
    "id": "bAJ4GmbT72p0"
   },
   "outputs": [],
   "source": [
    "########################################### function for plotting images\n",
    "\n",
    "def plot_images(images, total_images=100, rows=20, cols=5, fsize=(20,100), titre='Image'):\n",
    "    \n",
    "    fig = plt.figure(figsize=fsize) # create a new figure window\n",
    "    \n",
    "    for i in range(total_images): # display images\n",
    "        # subplot : 33 rows and 5 columns\n",
    "        img_grid = fig.add_subplot(rows, cols, i+1)\n",
    "        # plot features as image\n",
    "        img_grid.imshow(images[i])\n",
    "        \n",
    "        plt.title(titre)\n",
    " \n",
    "############################################ function for resizng images\n",
    "       \n",
    "def preprocess_image(image, image_height=IMG_ROWS, image_width=IMG_COLS):\n",
    "\n",
    "    return cv2.resize(image, (image_height, image_width))\n",
    "        \n",
    "def read_images (path , sz= None ):\n",
    "    \n",
    "    print('\\nCHARGEMENT DES IMAGES DE LA BASE .......................!\\n') \n",
    "\n",
    "    X,y = [], []\n",
    "    \n",
    "    for dirname , dirnames , filenames in os.walk(path):\n",
    "        \n",
    "        c = 0\n",
    "        \n",
    "        for subdirname in dirnames :\n",
    "            \n",
    "            subject_path = os. path . join ( dirname , subdirname )\n",
    "            \n",
    "            for filename in os. listdir ( subject_path ):\n",
    "                \n",
    "                im = Image.open(os.path.join(subject_path, filename))\n",
    "                #im = im.convert (\"L\")\n",
    "\n",
    "                if (sz is not None ):\n",
    "                    im = im.resize (sz , Image.ANTIALIAS ) \n",
    "                    \n",
    "                im = np.array(im)\n",
    "                im = preprocess_image(im, IMG_ROWS, IMG_COLS)\n",
    "                X.append(im)\n",
    "                y.append (c)  \n",
    "                \n",
    "            c = c+1\n",
    "            \n",
    "    return [X,y]"
   ]
  },
  {
   "cell_type": "code",
   "execution_count": null,
   "metadata": {},
   "outputs": [],
   "source": [
    "############################################ Read And Resize test images\n",
    "\n",
    "print('\\n\\nLECTURE DES IMAGES DE LA BASE DE TEST...................!') \n",
    "\n",
    "[X_test, y_test] = read_images(\"./Data/Potato/TestData\") # Potato\n",
    "\n",
    "[X_train, y_train] = read_images(\"./Data/Potato/TrainData\") # Potato\n",
    "\n",
    "print('\\nAFFICHAGE DE QUELQUES IMAGES DE LA BASE.................!')\n",
    "plot_images(X_test, 2, 1, 2,(10, 50), titre='Base De Test')\n",
    "plt.show()\n",
    "print('\\nFIN D\\'AFFICHAGE DES IMAGES DE LA BASE...................!\\n')"
   ]
  },
  {
   "cell_type": "code",
   "execution_count": null,
   "metadata": {},
   "outputs": [],
   "source": [
    "############################################################## Test Data\n",
    "\n",
    "images_test = X_test\n",
    "images_test = np.array(images_test)\n",
    "\n",
    "images_train = X_train\n",
    "images_train = np.asarray(images_train)\n",
    "\n",
    "# Test targets\n",
    "test_features  = images_test\n",
    "test_targets = y_test # targets\n",
    "\n",
    "# Train targets\n",
    "train_features = images_train\n",
    "train_targets = y_train \n",
    "\n",
    "from keras.utils import to_categorical\n",
    "test_targets = to_categorical(test_targets, NB_CLASSES)\n",
    "\n",
    "\n",
    "test_features = test_features.astype('float32')\n",
    "train_features = train_features.astype('float32')"
   ]
  },
  {
   "cell_type": "code",
   "execution_count": null,
   "metadata": {},
   "outputs": [],
   "source": [
    "print('\\nNORMALISATION DES BASES DE TEST ET D\\'APPRENTISSAGE.\\n')\n",
    "########################################################## Normalisation\n",
    "\n",
    "mean_vals = np.mean(train_features, axis=0)\n",
    "std_val = np.std(train_features)\n",
    "test_features = (test_features - mean_vals)/std_val\n",
    "\n",
    "test_features = test_features.reshape(test_features.shape[0], IMG_ROWS, IMG_COLS, 3)\n",
    "\n",
    "print(\"test_features.shape      >==============<> : {}\".format(test_features.shape))\n",
    "print(\"test_targets.shape       >==============<> : {}\".format(test_targets.shape))"
   ]
  },
  {
   "cell_type": "code",
   "execution_count": null,
   "metadata": {},
   "outputs": [],
   "source": [
    "########################################################################\n",
    "#(02)           EVALUATION DES PERFORMANCES DU MODELE CREE             #\n",
    "########################################################################\n",
    "\n",
    "VERBOSE = 1\n",
    "\n",
    "from keras.models import load_model\n",
    "\n",
    "model_new = load_model(\"VGGNet_16_groupe_2.h5\")\n",
    "\n",
    "score = model_new.evaluate(test_features, test_targets, verbose=VERBOSE)\n",
    "\n",
    "print('\\nThe experimental results of Model \\n')\n",
    "print(\"Test loss of model: %.2f%%\" % (score[0])) \n",
    "print(\"Test accuracy of Model : %.2f%%\" % (score[1]*100))\n",
    "print(\"Model error rate : %.2f%%\" % (100-score[1]*100))"
   ]
  },
  {
   "cell_type": "markdown",
   "metadata": {},
   "source": [
    "# Measure of VGGNet16 for one dataset patato\n",
    "1.  86.02%\n",
    "2.  86.26%\n",
    "3.  85.95%\n",
    "4.  86.88%\n",
    "5.  84.88%\n",
    "6.  84.42%\n",
    "7.  83.26%\n",
    "8.  84.42%\n",
    "9.  84.79%\n",
    "10. 83.49%\n",
    "Result of VGGNet16 for ten test = 85.25%"
   ]
  }
 ],
 "metadata": {
  "colab": {
   "provenance": []
  },
  "kernelspec": {
   "display_name": "Python 3",
   "language": "python",
   "name": "python3"
  },
  "language_info": {
   "codemirror_mode": {
    "name": "ipython",
    "version": 3
   },
   "file_extension": ".py",
   "mimetype": "text/x-python",
   "name": "python",
   "nbconvert_exporter": "python",
   "pygments_lexer": "ipython3",
   "version": "3.12.3"
  }
 },
 "nbformat": 4,
 "nbformat_minor": 1
}
